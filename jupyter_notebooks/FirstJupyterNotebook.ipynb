{
 "cells": [
  {
   "attachments": {},
   "cell_type": "markdown",
   "metadata": {},
   "source": [
    "# The Modern Python 3 Bootcamp\n",
    "\n",
    "Certain ways we should name variables. Variables must start with a letter or an underscore, NO STARTING WITH SYMBOLS. We can use letters, numbers, or underscores. STILL NO SYMBOlS. Variable names are case-sensitve. Reason why you can't assign values to symbols, is that they function as operators within Python.\n",
    "\n",
    "Naming conventions: Most variables should be \"snake_case\", \"CAPITAL_SNAKE_CASE\" usually refers to constants (Like PI), UpperCamelCase is usually used for classes, and __double_underscored_variables__ also called __dunder__ means that you should not touch the variables.\n",
    "\n",
    "Data Types: One thing to note, \"dict\" data types are similar to an \"Object\" in Javascript\n",
    "\n",
    "Note on bools, the values must be \"True\" or \"False\" no lowercase.\n",
    "\n",
    "## What the Heck is Dynamic Typing\n",
    "\n",
    "It allows us to change variable to different types. A note on the \"None\" type, to compare this to JavaScript, it would be comparable to \"null\". The reason that I say \"null\" instead of \"undefined\", even though the interepreter will also throw you \"undefined\", \"None\" and \"null\" would still be put there by the developer, unlike \"undefined\" which is something that exists within any Object in JavaScript.\n",
    "\n",
    "What is statically typed then? So, an example in C++ or C, which are what Python's core is. In those languages, a variable must be assigned as a data type when they are instantiated. For example, look below:\n",
    "\n",
    "int not_awesomeness = 5;\n",
    "\n",
    "not_awesomeness = \"cool\"; <-- This would throw an error because we are trying to assign a different data type.\n",
    "\n",
    "Double VS. Single Quotes: You can use either, just make sure you're consistent. You can use double quotes inside quotes, but you have to escape them."
   ]
  },
  {
   "cell_type": "code",
   "execution_count": 53,
   "metadata": {},
   "outputs": [
    {
     "name": "stdout",
     "output_type": "stream",
     "text": [
      "awesomeness is 5 and the data type is <class 'int'>\n",
      "awesomeness is 5 and the data type is <class 'int'>\n"
     ]
    }
   ],
   "source": [
    "awesomeness_statically_typed = int(5)\n",
    "print(f'awesomeness is ' + str(awesomeness_statically_typed) + ' and the data type is ' + str(type(awesomeness_statically_typed)))\n",
    "\n",
    "awesomeness_dynamically_typed = 5\n",
    "print(f'awesomeness is ' + str(awesomeness_dynamically_typed) + ' and the data type is ' + str(type(awesomeness_dynamically_typed)))"
   ]
  },
  {
   "attachments": {},
   "cell_type": "markdown",
   "metadata": {},
   "source": [
    "## Escape Sequences, A.K.A Escape Characters\n",
    "\n",
    "Note: You must put the escape characters within print().\n",
    "Important one is \"\\n\" - Which creates a newline.\n",
    "Important one is \"\\'\" - Which lets you continue on with a string, if necessary.\n",
    "Example, if you use the \"\\b\" - Which simulates a backspace in the middle of a string. If you simply call backspace, when \"backspace = 'HEL\\bLO\"; You get 'HEL\\x08LO'. If you put in print(backspace) when \"backspace = 'HEL\\bLO\"; You get 'HELO'."
   ]
  },
  {
   "attachments": {},
   "cell_type": "markdown",
   "metadata": {},
   "source": [
    "## String Concatenation\n",
    "\n",
    "Adding two strings together. He also uses this as an opportunity to introduce \"+=, -=, /= and *=\" which let you increment, decrement, divide, or multiply by an amount after the assignment operator (equal sign). This cannot be done on literals (try assigning to a value to a variable)."
   ]
  },
  {
   "attachments": {},
   "cell_type": "markdown",
   "metadata": {},
   "source": [
    "## String Formatting\n",
    "\n",
    "New way (as of Python 3.6) way to interpolate, or insert stuff into strings.\n",
    "So it starts with an f and the string has double quotes, you insert variables with curly braces."
   ]
  },
  {
   "cell_type": "code",
   "execution_count": 54,
   "metadata": {},
   "outputs": [
    {
     "name": "stdout",
     "output_type": "stream",
     "text": [
      "I've told you 10 times already!\n"
     ]
    }
   ],
   "source": [
    "x = 10\n",
    "formatted = f\"I've told you {x} times already!\"\n",
    "print(formatted)"
   ]
  },
  {
   "attachments": {},
   "cell_type": "markdown",
   "metadata": {},
   "source": [
    "This is one way that you can do stuff, like calculations and then slap that into a string"
   ]
  },
  {
   "cell_type": "code",
   "execution_count": 55,
   "metadata": {},
   "outputs": [
    {
     "name": "stdout",
     "output_type": "stream",
     "text": [
      "How many kilometers did you struggle to bike today?\n",
      "Your 1 kilometer ride converts to 0.62 miles.\n"
     ]
    }
   ],
   "source": [
    "# You can ask for user input by using input()\n",
    "\n",
    "print(\"How many kilometers did you struggle to bike today?\")\n",
    "kms = input()\n",
    "miles = float(kms)/1.6094\n",
    "rounded_miles = round(miles, 2)\n",
    "print(f\"Your {kms} kilometer ride converts to {rounded_miles} miles.\")"
   ]
  },
  {
   "attachments": {},
   "cell_type": "markdown",
   "metadata": {},
   "source": [
    "## SECTION 8: Boolean and Conditional Logic"
   ]
  },
  {
   "attachments": {},
   "cell_type": "markdown",
   "metadata": {},
   "source": [
    "### Section Introduction and Objectives\n",
    "\n",
    "input()\n",
    "prompts the user to put in information from the command line.\n",
    "The second of these two code examples is a lot cleaner and prevents errors by having everything the input be on its own line, instead of being smashed onto the end of the printed statement."
   ]
  },
  {
   "cell_type": "code",
   "execution_count": 56,
   "metadata": {},
   "outputs": [
    {
     "name": "stdout",
     "output_type": "stream",
     "text": [
      "You said blue is your favorite color.\n"
     ]
    }
   ],
   "source": [
    "data = input(\"What's your favorite color?\")\n",
    "print(f\"You said {data} is your favorite color.\")"
   ]
  },
  {
   "cell_type": "code",
   "execution_count": 57,
   "metadata": {},
   "outputs": [
    {
     "name": "stdout",
     "output_type": "stream",
     "text": [
      "What's your favorite color?\n",
      "You said blue is your favorite color.\n"
     ]
    }
   ],
   "source": [
    "print(\"What's your favorite color?\")\n",
    "data = input()\n",
    "print(f\"You said {data} is your favorite color.\")"
   ]
  },
  {
   "attachments": {},
   "cell_type": "markdown",
   "metadata": {},
   "source": [
    "### Intro to Conditionals\n",
    "\n",
    "Python is indentation sensitive.\n",
    "<br>\n",
    "Code Example:"
   ]
  },
  {
   "cell_type": "code",
   "execution_count": 58,
   "metadata": {},
   "outputs": [
    {
     "name": "stdout",
     "output_type": "stream",
     "text": [
      "Carry on, peasant.\n"
     ]
    }
   ],
   "source": [
    "name = \"Little Billy\"\n",
    "if name == \"Arya Stark\":\n",
    "\tprint(\"Valar Morghulis, which means 'All men will die.'\")\n",
    "elif name == \"Jon Snow\":\n",
    "\tprint(\"You know nothing.\")\n",
    "else:\n",
    "\tprint(\"Carry on, peasant.\")"
   ]
  },
  {
   "attachments": {},
   "cell_type": "markdown",
   "metadata": {},
   "source": [
    "### Another Code Exercise\n"
   ]
  },
  {
   "cell_type": "code",
   "execution_count": 59,
   "metadata": {},
   "outputs": [
    {
     "name": "stdout",
     "output_type": "stream",
     "text": [
      "unlucky\n"
     ]
    }
   ],
   "source": [
    "# NO TOUCHING PLEASE---------------\n",
    "from random import randint\n",
    "choice = randint(1,10)\n",
    "# NO TOUCHING PLEASE---------------\n",
    "\n",
    "# YOUR CODE GOES HERE:\n",
    "if choice == 7:\n",
    "\tprint(\"lucky\")\n",
    "elif choice != 7:\n",
    "\tprint(\"unlucky\")"
   ]
  },
  {
   "attachments": {},
   "cell_type": "markdown",
   "metadata": {},
   "source": [
    "### Second Code Exercise"
   ]
  },
  {
   "cell_type": "code",
   "execution_count": 60,
   "metadata": {},
   "outputs": [
    {
     "name": "stdout",
     "output_type": "stream",
     "text": [
      "even\n"
     ]
    }
   ],
   "source": [
    "# NO TOUCHING ======================================\n",
    "from random import randint\n",
    "num = randint(1, 1000) #picks random number from 1-1000\n",
    "# NO TOUCHING ======================================\n",
    "\n",
    "# YOUR CODE GOES HERE vvvvvvvvvvvvvvvvvvvvvvvvvvvvvvv\n",
    "\n",
    "if num%2 == 0:\n",
    "    print(\"even\")\n",
    "if num%2 == 1:\n",
    "    print(\"odd\")\n",
    "\n",
    "# YOUR CODE GOES HERE ^^^^^^^^^^^^^^^^^^^^^^^^^^^^^^^"
   ]
  },
  {
   "attachments": {},
   "cell_type": "markdown",
   "metadata": {},
   "source": [
    "## Section 9: Rock, Paper, Scissors"
   ]
  },
  {
   "cell_type": "code",
   "execution_count": 61,
   "metadata": {},
   "outputs": [
    {
     "name": "stdout",
     "output_type": "stream",
     "text": [
      "Rock...\n",
      "Paper...\n",
      "Scissors...\n",
      "Player 1 Wins\n"
     ]
    }
   ],
   "source": [
    "# print(\"...rock...\")\n",
    "# print(\"...paper...\")\n",
    "# print(\"...scissors...\")\n",
    "\n",
    "# player1 = input(\"(enter Player 1's choice): \")\n",
    "# player2 = input(\"(enter Player 2's choice): \")\n",
    "\n",
    "# print(\"SHOOT!\")\n",
    "\n",
    "# ======BREAK BREAK======REPEAT======BREAK BREAK======OVER======\n",
    "\n",
    "print(\"Rock...\")\n",
    "print(\"Paper...\")\n",
    "print(\"Scissors...\")\n",
    "\n",
    "player1 = input(\"Player 1, make your move: \")\n",
    "\n",
    "# print(\"BRING ON THE AIR HORNS\" + \"\\n\" + \"BRING ON THE AIR HORNS\" + \"\\n\" + \"BRING ON THE AIR HORNS\" + \"\\n\" + \"BRING ON THE AIR HORNS\" + \"\\n\" + \"BRING ON THE AIR HORNS\" + \"\\n\" + \"BRING ON THE AIR HORNS\" + \"\\n\" + \"BRING ON THE AIR HORNS\" + \"\\n\" + \"BRING ON THE AIR HORNS\" + \"\\n\" + \"BRING ON THE AIR HORNS\" + \"\\n\" + \"BRING ON THE AIR HORNS\" + \"\\n\")\n",
    "\n",
    "player2 = input(\"Player 2, make your move: \")\n",
    "\n",
    "if player1 == \"rock\" and player2 == \"scissors\":\n",
    "    print(\"Player 1 Wins\")\n",
    "if player1 == \"scissors\" and player2 == \"paper\":\n",
    "    print(\"Player 1 Wins\")\n",
    "if player1 == \"paper\" and player2 == \"rock\":\n",
    "    print(\"Player 1 Wins\")\n",
    "if player1 == \"rock\" and player2 == \"paper\":\n",
    "    print(\"Player 2 Wins\")\n",
    "if player1 == \"scissors\" and player2 == \"rock\":\n",
    "    print(\"Player 2 Wins\")\n",
    "if player1 == \"paper\" and player2 == \"scissors\":\n",
    "    print(\"Player 2 Wins\")\n",
    "if player1 == player2:\n",
    "    print(\"It is a tie!\")\n",
    "\n",
    "# ======BREAK BREAK======REPEAT======BREAK BREAK======OVER======\n",
    "\n",
    "# Refactoring the Code!"
   ]
  },
  {
   "attachments": {},
   "cell_type": "markdown",
   "metadata": {},
   "source": [
    "## Section 10: Looping in Python"
   ]
  },
  {
   "attachments": {},
   "cell_type": "markdown",
   "metadata": {},
   "source": [
    "### 83. The Basics of For Loops"
   ]
  },
  {
   "attachments": {},
   "cell_type": "markdown",
   "metadata": {},
   "source": [
    "For loops are written like this\n",
    "<br>\n",
    "<br>\n",
    "```python\n",
    "    # for item in iterable_object:\n",
    "        # Do something with the item\n",
    "```\n",
    "An iterable object ios some kind of collection of items, for instance: a list of number, a string of characters, a range, etc.\n",
    "<br>\n",
    "<br>\n",
    "Items: a new variable that can be called whatever you want\n",
    "<br>\n",
    "\"item\" references the current position of our _iterator_ within the iterable. It will iterate over (run through) every item of the collection and then go away when it has visited all items.\n"
   ]
  },
  {
   "attachments": {},
   "cell_type": "markdown",
   "metadata": {},
   "source": [
    "### 101. Changing Values in Lists"
   ]
  },
  {
   "cell_type": "code",
   "execution_count": 62,
   "metadata": {},
   "outputs": [],
   "source": [
    "# DON'T TOUCH THIS PLEASE!\n",
    "people = [\"Hanna\",\"Louisa\",\"Claudia\", \"Angela\",\"Geoffrey\", \"aparna\"]\n",
    "# DON'T TOUCH THIS PLEASE!\n",
    "#Change \"Hanna\" to \"Hanna\"\n",
    "people[0] = \"Hannah\"\n",
    "#Change \"Geoffrey\" to \"Jeffrey\"\n",
    "people[4] = \"Jeffrey\"\n",
    "#Change \"aparna\" to \"Aparna\" (capitalize it)\n",
    "people[-1] = \"Aparna\""
   ]
  },
  {
   "attachments": {},
   "cell_type": "markdown",
   "metadata": {},
   "source": [
    "### 102. Iterating Over Lists"
   ]
  },
  {
   "attachments": {},
   "cell_type": "markdown",
   "metadata": {},
   "source": [
    "#### For Loop Way"
   ]
  },
  {
   "cell_type": "code",
   "execution_count": 63,
   "metadata": {},
   "outputs": [
    {
     "name": "stdout",
     "output_type": "stream",
     "text": [
      "1\n",
      "3\n",
      "4\n"
     ]
    }
   ],
   "source": [
    "array = [1, 3, 4]\n",
    "for arbitraryVariable in array:\n",
    "    print(arbitraryVariable)"
   ]
  },
  {
   "attachments": {},
   "cell_type": "markdown",
   "metadata": {},
   "source": [
    "#### While Loop Way"
   ]
  },
  {
   "cell_type": "code",
   "execution_count": 64,
   "metadata": {},
   "outputs": [
    {
     "name": "stdout",
     "output_type": "stream",
     "text": [
      "1\n",
      "3\n",
      "4\n"
     ]
    }
   ],
   "source": [
    "array = [1, 3, 4]\n",
    "i = 0\n",
    "while i < len(array):\n",
    "    print(array[i])\n",
    "    i += 1"
   ]
  },
  {
   "attachments": {},
   "cell_type": "markdown",
   "metadata": {},
   "source": [
    "#### List with String Templating"
   ]
  },
  {
   "cell_type": "code",
   "execution_count": 65,
   "metadata": {},
   "outputs": [
    {
     "name": "stdout",
     "output_type": "stream",
     "text": [
      "0: magenta\n",
      "1: green\n",
      "2: orange\n",
      "3: red\n"
     ]
    }
   ],
   "source": [
    "colors = [\"magenta\", \"green\", \"orange\", \"red\"]\n",
    "index = 0\n",
    "while index < len(colors):\n",
    "    print(f\"{index}: {colors[index]}\")\n",
    "    index += 1"
   ]
  },
  {
   "attachments": {},
   "cell_type": "markdown",
   "metadata": {},
   "source": [
    "### 103. Coding Exercise"
   ]
  },
  {
   "attachments": {},
   "cell_type": "markdown",
   "metadata": {},
   "source": [
    "#### My Solution"
   ]
  },
  {
   "cell_type": "code",
   "execution_count": 66,
   "metadata": {},
   "outputs": [
    {
     "name": "stdout",
     "output_type": "stream",
     "text": [
      "SUPERCALIFRAGILISTICEXPIALIDOCIOUS\n"
     ]
    }
   ],
   "source": [
    "sounds = [\"super\", \"cali\", \"fragil\", \"istic\", \"expi\", \"ali\", \"docious\"]\n",
    "\n",
    "# Define your code below:\n",
    "\n",
    "result = (\"\".join(sounds).upper())\n",
    "print(result)\n",
    "\n",
    "# Outputs: \"SUPERCALIFRAGILISTICEXPIALIDOCIOUS\""
   ]
  },
  {
   "attachments": {},
   "cell_type": "markdown",
   "metadata": {},
   "source": [
    "#### Their Solutions"
   ]
  },
  {
   "attachments": {},
   "cell_type": "markdown",
   "metadata": {},
   "source": [
    "##### Capitlizing Each String"
   ]
  },
  {
   "cell_type": "code",
   "execution_count": 67,
   "metadata": {},
   "outputs": [
    {
     "name": "stdout",
     "output_type": "stream",
     "text": [
      "SUPERCALIFRAGILISTICEXPIALIDOCIOUS\n"
     ]
    }
   ],
   "source": [
    "sounds = [\"super\", \"cali\", \"fragil\", \"istic\", \"expi\", \"ali\", \"docious\"]\n",
    "# Define your code below:\n",
    "result = ''\n",
    "for s in sounds:\n",
    "    result += s.upper()\n",
    "print(result)"
   ]
  },
  {
   "attachments": {},
   "cell_type": "markdown",
   "metadata": {},
   "source": [
    "##### Add all strings to a result and capitalize it at the end"
   ]
  },
  {
   "cell_type": "code",
   "execution_count": 68,
   "metadata": {},
   "outputs": [
    {
     "name": "stdout",
     "output_type": "stream",
     "text": [
      "SUPERCALIFRAGILISTICEXPIALIDOCIOUS\n"
     ]
    }
   ],
   "source": [
    "sounds = [\"super\", \"cali\", \"fragil\", \"istic\", \"expi\", \"ali\", \"docious\"]\n",
    "\n",
    "# Define your code below:\n",
    "result = ''\n",
    "for s in sounds:\n",
    "    result += s\n",
    "result = result.upper()\n",
    "print(result)"
   ]
  },
  {
   "attachments": {},
   "cell_type": "markdown",
   "metadata": {},
   "source": [
    "### 104. List Methods: Append, Insert, and Extend"
   ]
  },
  {
   "attachments": {},
   "cell_type": "markdown",
   "metadata": {},
   "source": [
    "#### Difference Between Functions and Methods\n",
    "Functions are free-floating whereas methods are functions attached to an object (i.e. list, tuple, ect.)\n",
    "<ul>\n",
    "<li>list.append(item)</li>\n",
    "<li>Adds one and only one item to the end of a list.</li>\n",
    "<li>list.extend(item(s)) - Adds all of the items passed through the method to the list. Can be used to join to lists seamlessly.</li>\n",
    "<li>list.insert(index, item(s)) - Lets you seamlessly add items to list.</li>\n",
    "</ul>"
   ]
  },
  {
   "attachments": {},
   "cell_type": "markdown",
   "metadata": {},
   "source": [
    "### Coding Exercise"
   ]
  },
  {
   "cell_type": "code",
   "execution_count": 69,
   "metadata": {},
   "outputs": [
    {
     "name": "stdout",
     "output_type": "stream",
     "text": [
      "['Colt', 'Blue', 'Lisa']\n"
     ]
    }
   ],
   "source": [
    "# Create a list called instructors\n",
    "\n",
    "# Add the following strings to the instructors list \n",
    "    # \"Colt\"\n",
    "    # \"Blue\"\n",
    "    # \"Lisa\"\n",
    "\n",
    "# Run the tests to make sure you've done this correctly!\n",
    "\n",
    "instructors = []\n",
    "instructors.extend([\"Colt\", \"Blue\", \"Lisa\"])\n",
    "print(instructors)\n",
    "\n",
    "# Returns: [\"Colt\", \"Blue\", \"Lisa\"]"
   ]
  },
  {
   "attachments": {},
   "cell_type": "markdown",
   "metadata": {},
   "source": [
    "### Their Solution"
   ]
  },
  {
   "cell_type": "code",
   "execution_count": 70,
   "metadata": {},
   "outputs": [
    {
     "name": "stdout",
     "output_type": "stream",
     "text": [
      "['Colt', 'Blue', 'Lisa']\n"
     ]
    }
   ],
   "source": [
    "# Create a list called instructors\n",
    "instructors = []\n",
    "# Add the following strings to the instructors list \n",
    "    # \"Colt\"\n",
    "    # \"Blue\"\n",
    "    # \"Lisa\"\n",
    "\n",
    "instructors.append(\"Colt\")\n",
    "instructors.append(\"Blue\")\n",
    "instructors.append(\"Lisa\")\n",
    "\n",
    "print(instructors)"
   ]
  },
  {
   "attachments": {},
   "cell_type": "markdown",
   "metadata": {},
   "source": [
    "### 106. List Methods: Clear, Pop, and Remove\n",
    "<ul>\n",
    "<li>list.clear() - Removes all items from a list, leaving an empty list.</li>\n",
    "<li>list.pop() - Pops off the last item in a list by default, but you can pass a number and it will remove the item at the index that number is.</li>\n",
    "<li>list.remove() - It will remove the first item that matches what you pass. If it can't find the item you pass, then it will throw an error.</li>\n",
    "</ul>"
   ]
  },
  {
   "attachments": {},
   "cell_type": "markdown",
   "metadata": {},
   "source": [
    "### 107. List Methods: Index, Count, Sort, Reverse, and Join\n",
    "<ul>\n",
    "<li>list.index(item, start, end) - Returns the index of the specified item in the list. You can specifiy the start and end of where you want index to look for any given parameter.</li>\n",
    "<li>list.count(item) - Returns the number of time an item appears in a list. If an item isn't a list, it will return 0. Not crash like index()</li>\n",
    "<li>list.reverse(item) - Reverse the elements of the list.</li>\n",
    "<li>list.sort() - Sort the items of the list. You can customize the parameters (more on that later).</li>\n",
    "<li>\"\".join(list with strings) - It is more of a string method, used to combine a list of strings and return a new string. Whatever is in beteen the quotes, is inserted between each iterable in your list.</li>\n",
    "</ul>"
   ]
  },
  {
   "attachments": {},
   "cell_type": "markdown",
   "metadata": {},
   "source": [
    "### 108. Coding Exercise"
   ]
  },
  {
   "cell_type": "code",
   "execution_count": 71,
   "metadata": {},
   "outputs": [
    {
     "name": "stdout",
     "output_type": "stream",
     "text": [
      "['Colt', 'Blue']\n",
      "['Blue']\n",
      "['Done', 'Blue']\n"
     ]
    }
   ],
   "source": [
    "# Create a list called instructors\n",
    "instructors = []\n",
    "# Add the following strings to the instructors list \n",
    "    # \"Colt\"\n",
    "    # \"Blue\"\n",
    "    # \"Lisa\"\n",
    "instructors.extend([\"Colt\", \"Blue\", \"Lisa\"])\n",
    "# Remove the last value in the list\n",
    "instructors.pop()\n",
    "print(instructors)\n",
    "# Remove the first value in the list\n",
    "instructors.pop(0)\n",
    "print(instructors)\n",
    "# Add the string \"Done\" to the beginning of the list\n",
    "instructors.insert(0, \"Done\")\n",
    "print(instructors)\n",
    "# Run the tests to make sure you've done this correctly!\n",
    "# Code passed tests."
   ]
  },
  {
   "attachments": {},
   "cell_type": "markdown",
   "metadata": {},
   "source": [
    "### 109. Slices\n",
    "Organized like this:\n",
    "<br>\n",
    "<br>\n",
    "```list[start:end:step]```\n",
    "<br>\n",
    "<br>\n",
    "Slices create new a new instance of the list, meaning even though ```original_array == sliced_array``` will resolve to ```True```, ```original_array is sliced_array``` will resolve to  ```False```**"
   ]
  },
  {
   "attachments": {},
   "cell_type": "markdown",
   "metadata": {},
   "source": [
    "#### start Parameter"
   ]
  },
  {
   "cell_type": "code",
   "execution_count": 72,
   "metadata": {},
   "outputs": [
    {
     "name": "stdout",
     "output_type": "stream",
     "text": [
      "[2, 3, 4]\n",
      "[3, 4]\n"
     ]
    }
   ],
   "source": [
    "first_list = [1, 2, 3, 4]\n",
    "\n",
    "print(first_list[1:])\n",
    "# Positive slice starts from the front of the array.\n",
    "print(first_list[-2:])\n",
    "# Negative slice starts from the back of the array, but -1 is first position, since -0 can't exist.\n"
   ]
  },
  {
   "attachments": {},
   "cell_type": "markdown",
   "metadata": {},
   "source": [
    "#### end Parameter\n",
    "The slice: end parameter is exlusive, meaning we do not include the index we are counting up to."
   ]
  },
  {
   "cell_type": "code",
   "execution_count": 73,
   "metadata": {},
   "outputs": [
    {
     "name": "stdout",
     "output_type": "stream",
     "text": [
      "[1, 2]\n",
      "[1, 2, 3]\n",
      "[2, 3]\n"
     ]
    }
   ],
   "source": [
    "first_list = [1, 2, 3, 4]\n",
    "\n",
    "print(first_list[:2])\n",
    "\n",
    "print(first_list[:-1])\n",
    "# We are counting up to one element from the end.\n",
    "\n",
    "print(first_list[1:-1])"
   ]
  },
  {
   "attachments": {},
   "cell_type": "markdown",
   "metadata": {},
   "source": [
    "#### step Parameter\n",
    "The step is the number to count at a time. For example a step of 2 counts every other number."
   ]
  },
  {
   "cell_type": "code",
   "execution_count": 74,
   "metadata": {},
   "outputs": [
    {
     "name": "stdout",
     "output_type": "stream",
     "text": [
      "[1, 3]\n",
      "[4, 2]\n"
     ]
    }
   ],
   "source": [
    "first_list = [1, 2, 3, 4]\n",
    "\n",
    "# If you don't add anything before :: it defaults to index 0.\n",
    "print(first_list[::2])\n",
    "\n",
    "# When step is a negative number, it means we are counting backwards.\n",
    "\n",
    "print(first_list[::-2])"
   ]
  },
  {
   "attachments": {},
   "cell_type": "markdown",
   "metadata": {},
   "source": [
    "#### Tricks with Slices\n",
    "You can reverse lists and strings. You can also modify an existing list."
   ]
  },
  {
   "cell_type": "code",
   "execution_count": 75,
   "metadata": {},
   "outputs": [],
   "source": [
    "rappers = [\"Kanye\", \"Freddie Gibbs\", \"J Dilla\"]\n",
    "rappers[1:2] = [\"MFDoom\", \"Common\", \"O.D.B\"]"
   ]
  },
  {
   "attachments": {},
   "cell_type": "markdown",
   "metadata": {},
   "source": [
    "Here above is an example of modifying the record we are replacing \"Freddie Gibbs\" with \"MF Doom\" and adding the items \"Common\" and \"O.D.B\" after our new entry.\n",
    "<br>\n",
    "<br>\n",
    "To add a list onto the end of an existing list ```rappers```, from our example above you would use ```rappers[len(rappers)] = [\"Logic\", \"Logic Jr.\"]```, which would add your list items ```[\"Logic\", \"Logic Jr.\"]``` onto the end of the existing array."
   ]
  },
  {
   "attachments": {},
   "cell_type": "markdown",
   "metadata": {},
   "source": [
    "### 110. Swapping Values in Lists\n",
    "You can move values around lists by using the method below."
   ]
  },
  {
   "cell_type": "code",
   "execution_count": 76,
   "metadata": {},
   "outputs": [
    {
     "name": "stdout",
     "output_type": "stream",
     "text": [
      "['Jesse', 'James']\n"
     ]
    }
   ],
   "source": [
    "names = [\"James\", \"Jesse\"]\n",
    "names[0], names[1] = names[1], names[0]\n",
    "\n",
    "print(names)"
   ]
  }
 ],
 "metadata": {
  "file_extension": ".py",
  "kernelspec": {
   "display_name": "base",
   "language": "python",
   "name": "python3"
  },
  "language_info": {
   "codemirror_mode": {
    "name": "ipython",
    "version": 3
   },
   "file_extension": ".py",
   "mimetype": "text/x-python",
   "name": "python",
   "nbconvert_exporter": "python",
   "pygments_lexer": "ipython3",
   "version": "3.9.12"
  },
  "mimetype": "text/x-python",
  "name": "python",
  "npconvert_exporter": "python",
  "orig_nbformat": 2,
  "pygments_lexer": "ipython3",
  "version": 3,
  "vscode": {
   "interpreter": {
    "hash": "a0b3612c17859bbd200c13b3fd390ec601aa83f74a71f8f5665dea9647bab30a"
   }
  }
 },
 "nbformat": 4,
 "nbformat_minor": 2
}
